{
 "cells": [
  {
   "cell_type": "code",
   "execution_count": 4,
   "id": "587b6c4e",
   "metadata": {},
   "outputs": [
    {
     "name": "stdout",
     "output_type": "stream",
     "text": [
      "3\n",
      "3 4\n",
      "2 2\n",
      "2 3\n",
      "Case #1:\n",
      "..+-+-+-+\n",
      "..|.|.|.|\n",
      "+-+-+-+-+\n",
      "|.|.|.|.|\n",
      "+-+-+-+-+\n",
      "|.|.|.|.|\n",
      "+-+-+-+-+\n",
      "Case #2:\n",
      "..+-+\n",
      "..|.|\n",
      "+-+-+\n",
      "|.|.|\n",
      "+-+-+\n",
      "Case #3:\n",
      "..+-+-+\n",
      "..|.|.|\n",
      "+-+-+-+\n",
      "|.|.|.|\n",
      "+-+-+-+\n"
     ]
    }
   ],
   "source": [
    "n = int(input())\n",
    "columns = []\n",
    "rows = []\n",
    "for i in range (n):\n",
    "    j,k= input().split(\" \")\n",
    "    columns.append(j)\n",
    "    rows.append(k)\n",
    "\n",
    "for i in range (n):\n",
    "    print (\"Case #\"+str(i+1)+(\":\"))\n",
    "    print(\"..\", end=\"\")\n",
    "    for m in range (int(rows[i])-1):\n",
    "        print(\"+-\", end=\"\")\n",
    "    print(\"+\")\n",
    "    print(\"..\", end=\"\")\n",
    "    for m in range (int(rows[i])-1):\n",
    "        print(\"|.\", end=\"\")\n",
    "    print(\"|\")\n",
    "    for m in range (int(rows[i])):\n",
    "        print(\"+-\", end=\"\")\n",
    "    print(\"+\")\n",
    "    for l in range (int(columns[i])-1):\n",
    "        for m in range (int(rows[i])):\n",
    "            print(\"|.\", end=\"\")\n",
    "        print(\"|\")\n",
    "        for m in range (int(rows[i])):\n",
    "            print(\"+-\", end=\"\")\n",
    "        print(\"+\")"
   ]
  },
  {
   "cell_type": "code",
   "execution_count": null,
   "id": "45bc442e",
   "metadata": {},
   "outputs": [],
   "source": []
  },
  {
   "cell_type": "code",
   "execution_count": null,
   "id": "83823dfc",
   "metadata": {},
   "outputs": [],
   "source": []
  }
 ],
 "metadata": {
  "kernelspec": {
   "display_name": "Python 3 (ipykernel)",
   "language": "python",
   "name": "python3"
  },
  "language_info": {
   "codemirror_mode": {
    "name": "ipython",
    "version": 3
   },
   "file_extension": ".py",
   "mimetype": "text/x-python",
   "name": "python",
   "nbconvert_exporter": "python",
   "pygments_lexer": "ipython3",
   "version": "3.9.7"
  }
 },
 "nbformat": 4,
 "nbformat_minor": 5
}
