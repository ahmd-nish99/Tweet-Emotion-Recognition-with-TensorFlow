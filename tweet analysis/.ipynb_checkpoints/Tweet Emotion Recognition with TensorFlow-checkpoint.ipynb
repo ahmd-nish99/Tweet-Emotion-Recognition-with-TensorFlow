{
 "cells": [
  {
   "cell_type": "markdown",
   "id": "64cf7107",
   "metadata": {},
   "source": [
    "<h2>Setup</h2>\n",
    "<p>In this we will setup the necessary libraries whicih we will use in our project</p>"
   ]
  },
  {
   "cell_type": "code",
   "execution_count": null,
   "id": "a75ba544",
   "metadata": {},
   "outputs": [],
   "source": [
    "!pip install nlp"
   ]
  },
  {
   "cell_type": "code",
   "execution_count": 2,
   "id": "57fcf8b3",
   "metadata": {},
   "outputs": [
    {
     "name": "stdout",
     "output_type": "stream",
     "text": [
      "Using TensorFlow version 2.8.0\n"
     ]
    }
   ],
   "source": [
    "%matplotlib inline\n",
    "\n",
    "import tensorflow as tf\n",
    "from tensorflow.keras.preprocessing.sequence import pad_sequences\n",
    "import numpy as np\n",
    "import matplotlib.pyplot as plt\n",
    "import nlp\n",
    "import random\n",
    "print('Using TensorFlow version', tf.__version__)"
   ]
  },
  {
   "cell_type": "code",
   "execution_count": 3,
   "id": "3aeed16e",
   "metadata": {},
   "outputs": [],
   "source": [
    "def show_history(h):\n",
    "    epochs_trained = len(h.history['loss'])\n",
    "    plt.figure(figsize=(16, 6))\n",
    "\n",
    "    plt.subplot(1, 2, 1)\n",
    "    plt.plot(range(0, epochs_trained), h.history.get('accuracy'), label='Training')\n",
    "    plt.plot(range(0, epochs_trained), h.history.get('val_accuracy'), label='Validation')\n",
    "    plt.ylim([0., 1.])\n",
    "    plt.xlabel('Epochs')\n",
    "    plt.ylabel('Accuracy')\n",
    "    plt.legend()\n",
    "\n",
    "    plt.subplot(1, 2, 2)\n",
    "    plt.plot(range(0, epochs_trained), h.history.get('loss'), label='Training')\n",
    "    plt.plot(range(0, epochs_trained), h.history.get('val_loss'), label='Validation')\n",
    "    plt.xlabel('Epochs')\n",
    "    plt.ylabel('Loss')\n",
    "    plt.legend()\n",
    "    plt.show()\n",
    "\n",
    "    \n",
    "def show_confusion_matrix(y_true, y_pred, classes):\n",
    "    from sklearn.metrics import confusion_matrix\n",
    "    \n",
    "    cm = confusion_matrix(y_true, y_pred, normalize='true')\n",
    "\n",
    "    plt.figure(figsize=(8, 8))\n",
    "    sp = plt.subplot(1, 1, 1)\n",
    "    ctx = sp.matshow(cm)\n",
    "    plt.xticks(list(range(0, 6)), labels=classes)\n",
    "    plt.yticks(list(range(0, 6)), labels=classes)\n",
    "    plt.colorbar(ctx)\n",
    "    plt.show()"
   ]
  },
  {
   "cell_type": "markdown",
   "id": "2ad53cc1",
   "metadata": {},
   "source": [
    "<h2> Import the data</h2>\n",
    "<p>In here we are using the nlp libray of hugging face so we are importing the available dataset from there.</p>"
   ]
  },
  {
   "cell_type": "code",
   "execution_count": 4,
   "id": "beb37acf",
   "metadata": {},
   "outputs": [
    {
     "name": "stderr",
     "output_type": "stream",
     "text": [
      "Using custom data configuration default\n"
     ]
    }
   ],
   "source": [
    "dataset = nlp.load_dataset('emotion')"
   ]
  },
  {
   "cell_type": "code",
   "execution_count": 5,
   "id": "b096aa5d",
   "metadata": {},
   "outputs": [],
   "source": [
    "train = dataset['train']\n",
    "val = dataset['validation']\n",
    "test = dataset['test']"
   ]
  },
  {
   "cell_type": "code",
   "execution_count": 6,
   "id": "3ca0935c",
   "metadata": {},
   "outputs": [],
   "source": [
    "def get_tweets(data):\n",
    "    tweets = [x['text'] for x in data]\n",
    "    labels = [x['label'] for x in data]\n",
    "    return tweets, labels"
   ]
  },
  {
   "cell_type": "code",
   "execution_count": 7,
   "id": "d648b473",
   "metadata": {},
   "outputs": [
    {
     "data": {
      "text/plain": [
       "('i didnt feel humiliated', 'sadness')"
      ]
     },
     "execution_count": 7,
     "metadata": {},
     "output_type": "execute_result"
    }
   ],
   "source": [
    "tweets, labels = get_tweets(train)\n",
    "\n",
    "tweets[0], labels[0]"
   ]
  },
  {
   "cell_type": "markdown",
   "id": "1802aeea",
   "metadata": {},
   "source": [
    "<h2>Tokenizing the tweets</h2>\n",
    "<p>In this part we will give some unique tokens to each words used int the tweets</p>\n"
   ]
  },
  {
   "cell_type": "code",
   "execution_count": 9,
   "id": "f8259cf4",
   "metadata": {},
   "outputs": [
    {
     "name": "stdout",
     "output_type": "stream",
     "text": [
      "i am feeling grouchy\n",
      "[[2, 24, 8, 1065]]\n"
     ]
    }
   ],
   "source": [
    "tokenizer = tf.keras.preprocessing.text.Tokenizer(num_words=10000, oov_token='<OOV>')\n",
    "\n",
    "tokenizer.fit_on_texts(tweets)\n",
    "\n",
    "print(tweets[4])\n",
    "print(tokenizer.texts_to_sequences([tweets[4]]))"
   ]
  },
  {
   "cell_type": "markdown",
   "id": "7d964076",
   "metadata": {},
   "source": [
    "<h2>Padding and Truncating Sequences</h2>\n",
    "<p>In this part we will find the best size for the array and padd everything to that length</p>\n",
    "\n"
   ]
  },
  {
   "cell_type": "markdown",
   "id": "a7c729eb",
   "metadata": {},
   "source": [
    "<h4>1. Checking the tweet lengths</h4>"
   ]
  },
  {
   "cell_type": "code",
   "execution_count": 11,
   "id": "fcebab55",
   "metadata": {},
   "outputs": [
    {
     "data": {
      "image/png": "[encoded data removed]",
      "text/plain": [
       "<Figure size 432x288 with 1 Axes>"
      ]
     },
     "metadata": {
      "needs_background": "light"
     },
     "output_type": "display_data"
    }
   ],
   "source": [
    "lengths = [len(t.split(' ')) for t in tweets]\n",
    "\n",
    "plt.hist(lengths, bins=len(set(lengths)))\n",
    "plt.show()"
   ]
  },
  {
   "cell_type": "markdown",
   "id": "bb44a2aa",
   "metadata": {},
   "source": [
    "<h4>2. Creating padded sequences</h4>"
   ]
  },
  {
   "cell_type": "code",
   "execution_count": 12,
   "id": "94d1dd53",
   "metadata": {},
   "outputs": [],
   "source": [
    "def get_sequences(tokenizer, tweets):\n",
    "    sequences = tokenizer.texts_to_sequences(tweets)\n",
    "    padded_sequences = pad_sequences(sequences, truncating='post', maxlen=50, padding='post')\n",
    "    return padded_sequences"
   ]
  },
  {
   "cell_type": "code",
   "execution_count": 13,
   "id": "70451f52",
   "metadata": {},
   "outputs": [],
   "source": [
    "padded_train_sequences = get_sequences(tokenizer, tweets)"
   ]
  },
  {
   "cell_type": "code",
   "execution_count": 16,
   "id": "1ceed986",
   "metadata": {},
   "outputs": [
    {
     "name": "stdout",
     "output_type": "stream",
     "text": [
      "i didnt feel humiliated\n"
     ]
    },
    {
     "data": {
      "text/plain": [
       "array([  2, 139,   3, 679,   0,   0,   0,   0,   0,   0,   0,   0,   0,\n",
       "         0,   0,   0,   0,   0,   0,   0,   0,   0,   0,   0,   0,   0,\n",
       "         0,   0,   0,   0,   0,   0,   0,   0,   0,   0,   0,   0,   0,\n",
       "         0,   0,   0,   0,   0,   0,   0,   0,   0,   0,   0])"
      ]
     },
     "execution_count": 16,
     "metadata": {},
     "output_type": "execute_result"
    }
   ],
   "source": [
    "print(tweets[0])\n",
    "padded_train_sequences[0]"
   ]
  },
  {
   "cell_type": "markdown",
   "id": "2f02c7ec",
   "metadata": {},
   "source": [
    "<h2>Preparing the Labels</h2>\n",
    "<p>In this part we will set unique indexes for the labels </p>\n"
   ]
  },
  {
   "cell_type": "markdown",
   "id": "078d882d",
   "metadata": {},
   "source": [
    "<h4>Creating classes to index and index to classes dictionaries</h4>"
   ]
  },
  {
   "cell_type": "code",
   "execution_count": 17,
   "id": "4893fccb",
   "metadata": {},
   "outputs": [
    {
     "name": "stdout",
     "output_type": "stream",
     "text": [
      "{'fear', 'love', 'surprise', 'anger', 'sadness', 'joy'}\n"
     ]
    }
   ],
   "source": [
    "classes = set(labels)\n",
    "print(classes)"
   ]
  },
  {
   "cell_type": "code",
   "execution_count": 18,
   "id": "f66c00a9",
   "metadata": {},
   "outputs": [
    {
     "data": {
      "image/png": "[encoded data removed]",
      "text/plain": [
       "<Figure size 432x288 with 1 Axes>"
      ]
     },
     "metadata": {
      "needs_background": "light"
     },
     "output_type": "display_data"
    }
   ],
   "source": [
    "plt.hist(labels, bins=11)\n",
    "plt.show()"
   ]
  },
  {
   "cell_type": "code",
   "execution_count": 19,
   "id": "6d594b10",
   "metadata": {},
   "outputs": [],
   "source": [
    "classes_to_index = dict((c, i) for i, c in enumerate(classes))\n",
    "index_to_classes = dict((v, k) for k, v in classes_to_index.items())"
   ]
  },
  {
   "cell_type": "code",
   "execution_count": 20,
   "id": "c7046c62",
   "metadata": {},
   "outputs": [
    {
     "data": {
      "text/plain": [
       "{'fear': 0, 'love': 1, 'surprise': 2, 'anger': 3, 'sadness': 4, 'joy': 5}"
      ]
     },
     "execution_count": 20,
     "metadata": {},
     "output_type": "execute_result"
    }
   ],
   "source": [
    "classes_to_index"
   ]
  },
  {
   "cell_type": "code",
   "execution_count": 21,
   "id": "66a6c957",
   "metadata": {},
   "outputs": [
    {
     "data": {
      "text/plain": [
       "{0: 'fear', 1: 'love', 2: 'surprise', 3: 'anger', 4: 'sadness', 5: 'joy'}"
      ]
     },
     "execution_count": 21,
     "metadata": {},
     "output_type": "execute_result"
    }
   ],
   "source": [
    "index_to_classes"
   ]
  },
  {
   "cell_type": "markdown",
   "id": "a0ce3d98",
   "metadata": {},
   "source": [
    "<h4>Converting text labels to numeric labels</h4>"
   ]
  },
  {
   "cell_type": "code",
   "execution_count": 22,
   "id": "c42a980c",
   "metadata": {},
   "outputs": [],
   "source": [
    "names_to_ids = lambda labels: np.array([classes_to_index.get(x) for x in labels])"
   ]
  },
  {
   "cell_type": "code",
   "execution_count": 23,
   "id": "0f5f170c",
   "metadata": {},
   "outputs": [
    {
     "name": "stdout",
     "output_type": "stream",
     "text": [
      "4\n"
     ]
    }
   ],
   "source": [
    "train_labels = names_to_ids(labels)\n",
    "print(train_labels[0])"
   ]
  },
  {
   "cell_type": "markdown",
   "id": "655a4247",
   "metadata": {},
   "source": [
    "<h2>Creating and Compiling the model</h2>\n",
    "<p>In this part of the code we will set up and compile the model</p>"
   ]
  },
  {
   "cell_type": "code",
   "execution_count": 24,
   "id": "b5ab74ef",
   "metadata": {},
   "outputs": [
    {
     "name": "stdout",
     "output_type": "stream",
     "text": [
      "Model: \"sequential\"\n",
      "_________________________________________________________________\n",
      " Layer (type)                Output Shape              Param #   \n",
      "=================================================================\n",
      " embedding (Embedding)       (None, 50, 16)            160000    \n",
      "                                                                 \n",
      " bidirectional (Bidirectiona  (None, 50, 40)           5920      \n",
      " l)                                                              \n",
      "                                                                 \n",
      " bidirectional_1 (Bidirectio  (None, 40)               9760      \n",
      " nal)                                                            \n",
      "                                                                 \n",
      " dense (Dense)               (None, 6)                 246       \n",
      "                                                                 \n",
      "=================================================================\n",
      "Total params: 175,926\n",
      "Trainable params: 175,926\n",
      "Non-trainable params: 0\n",
      "_________________________________________________________________\n"
     ]
    }
   ],
   "source": [
    "model = tf.keras.models.Sequential([\n",
    "    tf.keras.layers.Embedding(10000, 16, input_length=50),\n",
    "    tf.keras.layers.Bidirectional(tf.keras.layers.LSTM(20, return_sequences=True)),\n",
    "    tf.keras.layers.Bidirectional(tf.keras.layers.LSTM(20)),\n",
    "    tf.keras.layers.Dense(6, activation='softmax')\n",
    "])\n",
    "\n",
    "model.compile(\n",
    "    loss='sparse_categorical_crossentropy',\n",
    "    optimizer='adam',\n",
    "    metrics=['accuracy']\n",
    ")\n",
    "\n",
    "model.summary()"
   ]
  },
  {
   "cell_type": "markdown",
   "id": "459d9ad8",
   "metadata": {},
   "source": [
    "<h2>Training the Model</h2>\n",
    "<p>In this part we will prepare the validation set initially and then train the model and test for accuracy</p>"
   ]
  },
  {
   "cell_type": "markdown",
   "id": "02bcefd9",
   "metadata": {},
   "source": [
    "<h4>1. Preparing the validation set</h4>"
   ]
  },
  {
   "cell_type": "code",
   "execution_count": 25,
   "id": "e0948e19",
   "metadata": {},
   "outputs": [],
   "source": [
    "val_tweets, val_labels = get_tweets(val)\n",
    "val_sequences = get_sequences(tokenizer, val_tweets)\n",
    "val_labels = names_to_ids(val_labels)"
   ]
  },
  {
   "cell_type": "code",
   "execution_count": 26,
   "id": "382bb015",
   "metadata": {},
   "outputs": [
    {
     "data": {
      "text/plain": [
       "('im feeling quite sad and sorry for myself but ill snap out of it soon', 4)"
      ]
     },
     "execution_count": 26,
     "metadata": {},
     "output_type": "execute_result"
    }
   ],
   "source": [
    "val_tweets[0], val_labels[0]\n"
   ]
  },
  {
   "cell_type": "markdown",
   "id": "29122419",
   "metadata": {},
   "source": [
    "<h4>2. Training the model</h4>"
   ]
  },
  {
   "cell_type": "code",
   "execution_count": 27,
   "id": "b6952ec9",
   "metadata": {},
   "outputs": [
    {
     "name": "stdout",
     "output_type": "stream",
     "text": [
      "Epoch 1/50\n",
      "500/500 [==============================] - 16s 21ms/step - loss: 1.3418 - accuracy: 0.4738 - val_loss: 0.8686 - val_accuracy: 0.6755\n",
      "Epoch 2/50\n",
      "500/500 [==============================] - 9s 18ms/step - loss: 0.6119 - accuracy: 0.7827 - val_loss: 0.5619 - val_accuracy: 0.8170\n",
      "Epoch 3/50\n",
      "500/500 [==============================] - 9s 18ms/step - loss: 0.3531 - accuracy: 0.8825 - val_loss: 0.4698 - val_accuracy: 0.8435\n",
      "Epoch 4/50\n",
      "500/500 [==============================] - 9s 19ms/step - loss: 0.2446 - accuracy: 0.9222 - val_loss: 0.4118 - val_accuracy: 0.8690\n",
      "Epoch 5/50\n",
      "500/500 [==============================] - 10s 21ms/step - loss: 0.1690 - accuracy: 0.9471 - val_loss: 0.3975 - val_accuracy: 0.8825\n",
      "Epoch 6/50\n",
      "500/500 [==============================] - 11s 22ms/step - loss: 0.1289 - accuracy: 0.9613 - val_loss: 0.3632 - val_accuracy: 0.8895\n",
      "Epoch 7/50\n",
      "500/500 [==============================] - 11s 22ms/step - loss: 0.1027 - accuracy: 0.9686 - val_loss: 0.4294 - val_accuracy: 0.8825\n",
      "Epoch 8/50\n",
      "500/500 [==============================] - 11s 22ms/step - loss: 0.0837 - accuracy: 0.9744 - val_loss: 0.4315 - val_accuracy: 0.8865\n"
     ]
    }
   ],
   "source": [
    "history = model.fit(\n",
    "    padded_train_sequences, train_labels,\n",
    "    validation_data=(val_sequences, val_labels),\n",
    "    epochs=50,\n",
    "    callbacks=[\n",
    "        tf.keras.callbacks.EarlyStopping(monitor='val_accuracy', patience=2)\n",
    "    ]\n",
    ")"
   ]
  },
  {
   "cell_type": "markdown",
   "id": "891e195d",
   "metadata": {},
   "source": [
    "<h2>Evlauating the model</h2>"
   ]
  },
  {
   "cell_type": "code",
   "execution_count": 28,
   "id": "c729f24e",
   "metadata": {},
   "outputs": [
    {
     "data": {
      "image/png": "[encoded data removed]",
      "text/plain": [
       "<Figure size 1152x432 with 2 Axes>"
      ]
     },
     "metadata": {
      "needs_background": "light"
     },
     "output_type": "display_data"
    }
   ],
   "source": [
    "show_history(history)"
   ]
  },
  {
   "cell_type": "code",
   "execution_count": 29,
   "id": "3ae8358e",
   "metadata": {},
   "outputs": [],
   "source": [
    "test_tweets, test_labels = get_tweets(test)\n",
    "test_sequences = get_sequences(tokenizer, test_tweets)\n",
    "test_labels = names_to_ids(test_labels)"
   ]
  },
  {
   "cell_type": "code",
   "execution_count": 30,
   "id": "ff93a76d",
   "metadata": {},
   "outputs": [
    {
     "name": "stdout",
     "output_type": "stream",
     "text": [
      "63/63 [==============================] - 0s 6ms/step - loss: 0.4245 - accuracy: 0.8830\n"
     ]
    }
   ],
   "source": [
    "_ = model.evaluate(test_sequences, test_labels)\n"
   ]
  },
  {
   "cell_type": "markdown",
   "id": "c023b638",
   "metadata": {},
   "source": [
    "<h4>Just testing the output for random samples</h4>"
   ]
  },
  {
   "cell_type": "code",
   "execution_count": 34,
   "id": "7a497fd0",
   "metadata": {},
   "outputs": [
    {
     "name": "stdout",
     "output_type": "stream",
     "text": [
      "Sentence: i am feeling very petty right now\n",
      "Emotion: anger\n",
      "Predicted Emotion: anger\n"
     ]
    }
   ],
   "source": [
    "i = random.randint(0, len(test_labels) - 1)\n",
    "\n",
    "print('Sentence:', test_tweets[i])\n",
    "print('Emotion:', index_to_classes[test_labels[i]])\n",
    "\n",
    "p = model.predict(np.expand_dims(test_sequences[i], axis=0))[0]\n",
    "pred_class = index_to_classes[np.argmax(p).astype('int')]\n",
    "print('Predicted Emotion:', pred_class)"
   ]
  },
  {
   "cell_type": "code",
   "execution_count": 37,
   "id": "f062b82d",
   "metadata": {},
   "outputs": [],
   "source": [
    "y_predict = np.argmax(model.predict(test_sequences),axis=1)"
   ]
  },
  {
   "cell_type": "code",
   "execution_count": 38,
   "id": "73daf9db",
   "metadata": {},
   "outputs": [
    {
     "data": {
      "image/png": "[encoded data removed]",
      "text/plain": [
       "<Figure size 576x576 with 2 Axes>"
      ]
     },
     "metadata": {
      "needs_background": "light"
     },
     "output_type": "display_data"
    }
   ],
   "source": [
    "show_confusion_matrix(test_labels, y_predict, list(classes))"
   ]
  },
  {
   "cell_type": "code",
   "execution_count": null,
   "id": "04426a73",
   "metadata": {},
   "outputs": [],
   "source": []
  }
 ],
 "metadata": {
  "kernelspec": {
   "display_name": "Python 3 (ipykernel)",
   "language": "python",
   "name": "python3"
  },
  "language_info": {
   "codemirror_mode": {
    "name": "ipython",
    "version": 3
   },
   "file_extension": ".py",
   "mimetype": "text/x-python",
   "name": "python",
   "nbconvert_exporter": "python",
   "pygments_lexer": "ipython3",
   "version": "3.9.7"
  }
 },
 "nbformat": 4,
 "nbformat_minor": 5
}
